{
 "cells": [
  {
   "cell_type": "markdown",
   "id": "a6d976e1",
   "metadata": {},
   "source": [
    "# Prodigy Infotech Internship Task by Hardik Panchal"
   ]
  },
  {
   "cell_type": "markdown",
   "id": "a6a364a0",
   "metadata": {},
   "source": [
    "# Task 4 : Analyze and visualize sentiment patterns"
   ]
  },
  {
   "cell_type": "markdown",
   "id": "c4e217a3",
   "metadata": {},
   "source": [
    "# Problem Statement:\n",
    "## Analyze and visualize sentiment patterns in social media data to understand public opinion and attitudes towards specific topics or brands."
   ]
  },
  {
   "cell_type": "markdown",
   "id": "0aa1d3cc",
   "metadata": {},
   "source": [
    "# About the Dataset:\n",
    "## We have used the TextBlob library and the nltk library's Twitter dataset to analyze sentiment.\n",
    "## Here we load the positive and negative tweets from the nltk Twitter dataset, analyze their sentiment using TextBlob, and then visualize the sentiment distribution using histograms."
   ]
  },
  {
   "cell_type": "code",
   "execution_count": 9,
   "id": "d9965b8c",
   "metadata": {},
   "outputs": [
    {
     "name": "stdout",
     "output_type": "stream",
     "text": [
      "Requirement already satisfied: textblob in c:\\users\\hardi\\anaconda3\\lib\\site-packages (0.17.1)Note: you may need to restart the kernel to use updated packages.\n",
      "Requirement already satisfied: nltk in c:\\users\\hardi\\anaconda3\\lib\\site-packages (3.6.1)\n",
      "Requirement already satisfied: click in c:\\users\\hardi\\anaconda3\\lib\\site-packages (from nltk) (7.1.2)\n",
      "Requirement already satisfied: tqdm in c:\\users\\hardi\\anaconda3\\lib\\site-packages (from nltk) (4.59.0)\n",
      "\n",
      "Requirement already satisfied: regex in c:\\users\\hardi\\anaconda3\\lib\\site-packages (from nltk) (2021.4.4)\n",
      "Requirement already satisfied: joblib in c:\\users\\hardi\\anaconda3\\lib\\site-packages (from nltk) (1.0.1)\n"
     ]
    }
   ],
   "source": [
    "pip install textblob nltk"
   ]
  },
  {
   "cell_type": "code",
   "execution_count": 10,
   "id": "0d990a91",
   "metadata": {},
   "outputs": [],
   "source": [
    "import nltk\n",
    "from nltk.corpus import twitter_samples\n",
    "from textblob import TextBlob\n",
    "import matplotlib.pyplot as plt"
   ]
  },
  {
   "cell_type": "code",
   "execution_count": 11,
   "id": "8c989d12",
   "metadata": {},
   "outputs": [
    {
     "name": "stderr",
     "output_type": "stream",
     "text": [
      "[nltk_data] Downloading package twitter_samples to\n",
      "[nltk_data]     C:\\Users\\Hardi\\AppData\\Roaming\\nltk_data...\n",
      "[nltk_data]   Package twitter_samples is already up-to-date!\n"
     ]
    },
    {
     "data": {
      "text/plain": [
       "True"
      ]
     },
     "execution_count": 11,
     "metadata": {},
     "output_type": "execute_result"
    }
   ],
   "source": [
    "# Download the Twitter dataset from nltk\n",
    "nltk.download(\"twitter_samples\")"
   ]
  },
  {
   "cell_type": "code",
   "execution_count": 12,
   "id": "c6c561fa",
   "metadata": {},
   "outputs": [],
   "source": [
    "# Load the positive and negative tweets\n",
    "positive_tweets = twitter_samples.strings(\"positive_tweets.json\")\n",
    "negative_tweets = twitter_samples.strings(\"negative_tweets.json\")"
   ]
  },
  {
   "cell_type": "code",
   "execution_count": 13,
   "id": "6a631c20",
   "metadata": {},
   "outputs": [],
   "source": [
    "# Perform sentiment analysis using TextBlob\n",
    "positive_sentiments = [TextBlob(tweet).sentiment.polarity for tweet in positive_tweets]\n",
    "negative_sentiments = [TextBlob(tweet).sentiment.polarity for tweet in negative_tweets]"
   ]
  },
  {
   "cell_type": "code",
   "execution_count": 14,
   "id": "c515d7b4",
   "metadata": {},
   "outputs": [
    {
     "data": {
      "image/png": "[encoded data removed]",
      "text/plain": [
       "<Figure size 720x432 with 1 Axes>"
      ]
     },
     "metadata": {
      "needs_background": "light"
     },
     "output_type": "display_data"
    }
   ],
   "source": [
    "# Visualize sentiment distribution\n",
    "plt.figure(figsize=(10, 6))\n",
    "plt.hist(positive_sentiments, bins=20, alpha=0.5, color=\"green\", label=\"Positive Sentiment\")\n",
    "plt.hist(negative_sentiments, bins=20, alpha=0.5, color=\"red\", label=\"Negative Sentiment\")\n",
    "plt.xlabel(\"Sentiment Polarity\")\n",
    "plt.ylabel(\"Frequency\")\n",
    "plt.title(\"Sentiment Distribution\")\n",
    "plt.legend()\n",
    "plt.show()"
   ]
  },
  {
   "cell_type": "code",
   "execution_count": 15,
   "id": "e62e8e8c",
   "metadata": {},
   "outputs": [],
   "source": [
    "# Perform sentiment analysis using TextBlob\n",
    "positive_sentiments = [TextBlob(tweet).sentiment.polarity for tweet in positive_tweets]\n",
    "negative_sentiments = [TextBlob(tweet).sentiment.polarity for tweet in negative_tweets]\n",
    "\n",
    "# Detailed Sentiment Analysis Report\n",
    "positive_avg_sentiment = sum(positive_sentiments) / len(positive_sentiments)\n",
    "negative_avg_sentiment = sum(negative_sentiments) / len(negative_sentiments)"
   ]
  },
  {
   "cell_type": "code",
   "execution_count": 34,
   "id": "dc97cc8c",
   "metadata": {},
   "outputs": [],
   "source": [
    "# Create word clouds for positive and negative sentiments\n",
    "positive_words = \" \".join(positive_tweets)\n",
    "negative_words = \" \".join(negative_tweets)"
   ]
  },
  {
   "cell_type": "code",
   "execution_count": 35,
   "id": "349b7c01",
   "metadata": {},
   "outputs": [
    {
     "name": "stdout",
     "output_type": "stream",
     "text": [
      "Sentiment Analysis Report:\n",
      "Average Positive Sentiment: 0.476\n",
      "Average Negative Sentiment: -0.500\n"
     ]
    }
   ],
   "source": [
    "print(\"Sentiment Analysis Report:\")\n",
    "print(f\"Average Positive Sentiment: {positive_avg_sentiment:.3f}\")\n",
    "print(f\"Average Negative Sentiment: {negative_avg_sentiment:.3f}\")"
   ]
  },
  {
   "cell_type": "code",
   "execution_count": 29,
   "id": "49f465d4",
   "metadata": {},
   "outputs": [],
   "source": []
  }
 ],
 "metadata": {
  "kernelspec": {
   "display_name": "Python 3",
   "language": "python",
   "name": "python3"
  },
  "language_info": {
   "codemirror_mode": {
    "name": "ipython",
    "version": 3
   },
   "file_extension": ".py",
   "mimetype": "text/x-python",
   "name": "python",
   "nbconvert_exporter": "python",
   "pygments_lexer": "ipython3",
   "version": "3.8.3"
  }
 },
 "nbformat": 4,
 "nbformat_minor": 5
}
